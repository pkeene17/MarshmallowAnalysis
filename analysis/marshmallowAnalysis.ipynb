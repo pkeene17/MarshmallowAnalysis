{
 "cells": [
  {
   "cell_type": "code",
   "execution_count": 1,
   "id": "8a5d3269-bba3-4469-99fc-db183c13f958",
   "metadata": {},
   "outputs": [],
   "source": [
    "#Basic analyses of Marshmallow data\n",
    "import numpy as np \n",
    "import matplotlib.pyplot as plt \n",
    "import scipy.stats as stats\n",
    "import scipy.io as sio\n",
    "import pandas as pd"
   ]
  },
  {
   "cell_type": "code",
   "execution_count": 2,
   "id": "2ece94c7-08b1-44a4-8577-d87df5919d87",
   "metadata": {},
   "outputs": [],
   "source": [
    "##### column name meanings #####\n",
    "#testData\n",
    "# % run\n",
    "# % trial\n",
    "# % cb: 1 = beaches nback, 2 = gazebos nback\n",
    "# % category_cue: category of the cued scene and competitor (1 = beach, 2 = gazebo)\n",
    "# % category_noncomp: category of the non-competitor item (1 = beach, 2 = gazebo)\n",
    "# % pairnum_cue: which pair within a category the cue and competitor comes from\n",
    "# % pairnum_noncomp: which pair within a category the non-competitor comes from\n",
    "# % pairitem_cue: which item is being shown on this trial (pairmate 1 or pairmate 2) for the cue\n",
    "# % pairitem_noncomp: which item is being shown on this trial (pairmate 1 or pairmate 2) for the non-competitor\n",
    "# % pairid_cue: ID # of this pair (based on all possible combinations) for the cue and competitor\n",
    "# % pairid_noncomp: ID # of this pair (based on all possible combinations) for the non-competitor\n",
    "# % scenenum: which scene is being shown for the cue\n",
    "# % objnum_obj1: which object is being shown for the left item\n",
    "# % objnum_obj2 which object is being shown for the middle item\n",
    "# % objnum_obj3: which object is being shown for the right item\n",
    "# % condition_cue: similarity condition (0-4) of the cue and competitor\n",
    "# % condition_noncomp: similarity condition (0-4) of the non-competitor\n",
    "# % objpos1: which item appeared on the left (1 = target, 2 = competitor, 3 = non-competitor)\n",
    "# % objpos2: which item appeared on the middle (1 = target, 2 = competitor, 3 = non-competitor)\n",
    "# % objpos3:which item appeared on the right (1 = target, 2 = competitor, 3 = non-competitor)\n",
    "# % resp: actual response\n",
    "# % score: 1 = target, 2 = competitor, 3 = non-competitor\n",
    "# % rt: response time (s)\n",
    "\n",
    "#nback\n",
    "# % run\n",
    "# % trial\n",
    "# % category: 1 = beach, 2 = gazebo\n",
    "# % stim: stimulus number shown\n",
    "# % cresp: correct response\n",
    "# % resp: actual response\n",
    "# % acc: accuracy\n",
    "# % rt: response time (s)"
   ]
  },
  {
   "cell_type": "code",
   "execution_count": 3,
   "id": "8c37712b-c2ec-4239-8d5d-033a3ae1c60e",
   "metadata": {},
   "outputs": [],
   "source": [
    "##### Helpers #####"
   ]
  },
  {
   "cell_type": "code",
   "execution_count": 4,
   "id": "7dabc15c-3fe2-4dfb-8777-0baec03a1fd3",
   "metadata": {},
   "outputs": [],
   "source": [
    "#helper to load data\n",
    "def loadData(sn,task=\"both\",robertData=0):\n",
    "\tdatadir = \"../data/\"\n",
    "\tnbackData = np.empty([1000,8])\n",
    "\ttestData = np.empty([240,23])\n",
    "\tsubj_str = \"marshmallow_\"+str(sn)\n",
    "\tif robertData==1:\n",
    "\t\tif sn<10:\n",
    "\t\t\tsubj_str = \"marshmallow_00\"+str(sn)\n",
    "\t\telse:\n",
    "\t\t\tsubj_str = \"marshmallow_0\"+str(sn)\n",
    "\tfullpath_str = datadir+subj_str+\"/\"+subj_str\n",
    "\tif np.logical_and(robertData==1,sn==4):\n",
    "\t\tfullpath_str = datadir+subj_str+\"/marshmallow_003\" #dunno how this happened but I suspect it was just an error while running the code\n",
    "\theader = sio.loadmat(fullpath_str+\"_header.mat\")\n",
    "\tfor irun in range(20):\n",
    "\t\tdata = sio.loadmat(fullpath_str+\"_nback_1_\"+str(irun+1)+\".mat\")\n",
    "\t\tnbackData[(irun*50):(irun+1)*50] = data[\"data\"][\"rundata\"][0][0]\n",
    "\tnbackData = pd.DataFrame(nbackData,columns=[\"run\",\"trial\",\"category\",\"stim\",\"cresp\",\"resp\",\"acc\",\"rt\"])\n",
    "\tfor irun in range(3):\n",
    "\t\tdata = sio.loadmat(fullpath_str+\"_studytest_\"+str(irun+1)+\".mat\")\n",
    "\t\ttestData[(irun*80):(irun+1)*80] = data[\"data\"][\"testdata\"][0][0]\n",
    "\ttestData = pd.DataFrame(testData,columns=[\"run\",\"trial\",\"cat_nb\",\"cat_cue\",\"cat_noncomp\",\n",
    "\t\t\t\t\t\t\t\t\t\t\t\t\"pairnum_cue\",\"pairnum_noncomp\",\"pairitem_cue\",\"pairitem_noncomp\",\n",
    "\t\t\t\t\t\t\t\t\t\t\t\t\"pairid_cue\",\"pairid_noncomp\",\n",
    "\t\t\t\t\t\t\t\t\t\t\t\t\"scenenum\",\"objnum_obj1\",\"objnum_obj2\",\"objnum_obj3\",\"cond_cue\",\n",
    "\t\t\t\t\t\t\t\t\t\t\t\t\"cond_noncomp\",\"objpos1\",\"objpos2\",\"objpos3\",\"resp\",\"score\",\"rt\"])\n",
    "\treturn header, nbackData, testData"
   ]
  },
  {
   "cell_type": "code",
   "execution_count": 5,
   "id": "74d67401-bfd2-45be-a6f5-44ad6672404a",
   "metadata": {},
   "outputs": [],
   "source": [
    "#do some descriptive stats on the nback data\n",
    "def nbackSummary(nbackdata,sn,printSubj=0):\n",
    "\tmean_nback_acc = np.nanmean(nbackData.acc)\n",
    "\tmean_nback_rt = np.nanmean(nbackData.rt)\n",
    "\tif printSubj:\n",
    "\t\tprint(\"subj\"+str(sn)+\" mean nBack acc = \"+str(mean_nback_acc))\n",
    "\t\tprint(\"subj\"+str(sn)+\" mean nBack rt = \"+str(mean_nback_rt))\n",
    "\tmeanRT = np.zeros(20)\n",
    "\tmeanAcc = np.zeros(20)\n",
    "\tfor i in range(20):\n",
    "\t\tmeanRT[i] = np.nanmean(nbackData.rt[nbackData.run==(i+1)])\n",
    "\t\tmeanAcc[i] = np.nanmean(nbackData.acc[nbackData.run==(i+1)])\n",
    "\treturn meanRT,meanAcc"
   ]
  },
  {
   "cell_type": "code",
   "execution_count": 6,
   "id": "3f2dd5ee-4e1e-4ff0-bca9-602104e0cad9",
   "metadata": {},
   "outputs": [],
   "source": [
    "def studytestSummary(testData,sn,printSubj=0):\n",
    "\t#first, we fix this bullshit\n",
    "\ttestData.cat_nb = testData.cat_nb - 1 #who tf uses 1 and 2 as their binary codes????\n",
    "\ttestData.cat_cue = testData.cat_cue - 1\n",
    "\ttestData.cat_noncomp = testData.cat_noncomp - 1\n",
    "\t#assign catagory labels\n",
    "\tlearned_cat = testData.cat_nb[0]\n",
    "\tnovel_cat = (learned_cat*-1)+1\n",
    "\n",
    "\tmeanAcc = np.nansum(testData.score==1)/240\n",
    "\t#break it up by stimulus condition\n",
    "\tlearned_meanAcc = np.nansum(testData.score[testData.cat_cue==learned_cat]==1)/np.nansum(testData.cat_cue==learned_cat)\n",
    "\tnovel_meanAcc = np.nansum(testData.score[testData.cat_cue==novel_cat]==1)/np.nansum(testData.cat_cue==novel_cat)\n",
    "\tif printSubj:\n",
    "\t\tprint(\"subj\"+str(sn)+\" mean ST acc = \"+str(meanAcc))\n",
    "\t\tprint(\"subj\"+str(sn)+\" learned stimulus mean acc = \"+str(learned_meanAcc))\n",
    "\t\tprint(\"subj\"+str(sn)+\" novel stimulus mean acc = \"+str(novel_meanAcc))\n",
    "\t\t#document nan responses to make sure people are actually doing the task\n",
    "\t\tprint(\"subj\"+str(sn)+\" nan responses = \"+str(np.sum(np.isnan(testData.rt))))\n",
    "\t\tprint(\"\\n\")\n",
    "\t#break it up by block\n",
    "\t#basic stats\n",
    "\tlearned_acc_block = np.zeros(3)\n",
    "\tnovel_acc_block = np.zeros(3)\n",
    "\t#histogram stats\n",
    "\tlearned_num_resps = np.zeros((3,3))\n",
    "\tnovel_num_resps = np.zeros((3,3))\n",
    "\tlearned_rt_resps = np.zeros((3,3))\n",
    "\tnovel_rt_resps = np.zeros((3,3))\n",
    "\t#rt stats\n",
    "\tlearned_rt_block = np.zeros(3)\n",
    "\tnovel_rt_block = np.zeros(3)\n",
    "\tfor i in range(3):\n",
    "\t\tlearned_rt_block[i] = np.nanmean(testData.rt[np.logical_and(testData.cat_cue==learned_cat,testData.run==(i+1))])\n",
    "\t\tnovel_rt_block[i] = np.nanmean(testData.rt[np.logical_and(testData.cat_cue==novel_cat,testData.run==(i+1))])\n",
    "\t\tlearned_acc_block[i] = np.nansum(testData.score[np.logical_and(testData.cat_cue==learned_cat,testData.run==(i+1))]==1)/np.nansum(np.logical_and(testData.cat_cue==learned_cat,testData.run==(i+1)))\n",
    "\t\tnovel_acc_block[i] = np.nansum(testData.score[np.logical_and(testData.cat_cue==novel_cat,testData.run==(i+1))]==1)/np.nansum(np.logical_and(testData.cat_cue==novel_cat,testData.run==(i+1)))\n",
    "\t\tlearned_num_resps[0,i] = np.nansum(testData.score[np.logical_and(testData.cat_cue==learned_cat,testData.run==(i+1))]==1)\n",
    "\t\tlearned_num_resps[1,i] = np.nansum(testData.score[np.logical_and(testData.cat_cue==learned_cat,testData.run==(i+1))]==2)\n",
    "\t\tlearned_num_resps[2,i] = np.nansum(testData.score[np.logical_and(testData.cat_cue==learned_cat,testData.run==(i+1))]==3)\n",
    "\t\tnovel_num_resps[0,i] = np.nansum(testData.score[np.logical_and(testData.cat_cue==novel_cat,testData.run==(i+1))]==1)\n",
    "\t\tnovel_num_resps[1,i] = np.nansum(testData.score[np.logical_and(testData.cat_cue==novel_cat,testData.run==(i+1))]==2)\n",
    "\t\tnovel_num_resps[2,i] = np.nansum(testData.score[np.logical_and(testData.cat_cue==novel_cat,testData.run==(i+1))]==3)\n",
    "\t\t#these sometimes throw a warning because some subjects did not chose the competitor/noncompetior for whole blocks, so theres nothing to average\n",
    "\t\tlearned_rt_resps[0,i] = np.nanmean(testData.rt[np.logical_and(np.logical_and(testData.cat_cue==learned_cat,testData.run==(i+1)),testData.score==1)])\n",
    "\t\tlearned_rt_resps[1,i] = np.nanmean(testData.rt[np.logical_and(np.logical_and(testData.cat_cue==learned_cat,testData.run==(i+1)),testData.score==2)])\n",
    "\t\tlearned_rt_resps[2,i] = np.nanmean(testData.rt[np.logical_and(np.logical_and(testData.cat_cue==learned_cat,testData.run==(i+1)),testData.score==3)])\n",
    "\t\tnovel_rt_resps[0,i] = np.nanmean(testData.rt[np.logical_and(np.logical_and(testData.cat_cue==novel_cat,testData.run==(i+1)),testData.score==1)])\n",
    "\t\tnovel_rt_resps[1,i] = np.nanmean(testData.rt[np.logical_and(np.logical_and(testData.cat_cue==novel_cat,testData.run==(i+1)),testData.score==2)])\n",
    "\t\tnovel_rt_resps[2,i] = np.nanmean(testData.rt[np.logical_and(np.logical_and(testData.cat_cue==novel_cat,testData.run==(i+1)),testData.score==3)])\n",
    "\treturn learned_acc_block,novel_acc_block,learned_num_resps,novel_num_resps,learned_rt_block,novel_rt_block,learned_rt_resps,novel_rt_resps,learned_cat"
   ]
  },
  {
   "cell_type": "code",
   "execution_count": 7,
   "id": "cc40bde5-8c3a-4e28-af97-180394655905",
   "metadata": {},
   "outputs": [],
   "source": [
    "#assumes levels of responses are balanced (wont work with nback)\n",
    "#Adapted from this source: https://psychology.stackexchange.com/questions/13386/in-a-forced-choice-task-what-proportion-of-responses-is-above-chance-level\n",
    "def binomial_cutoff(ntrials,npermutations,p_cutoff,num_levels):\n",
    "\t#randomly generate a 'correct' set of responses\n",
    "\texpected = np.random.choice(num_levels,ntrials)\n",
    "\t#randomly generate a responses to many runs of the experiment\n",
    "\trandom_resps = np.random.choice(num_levels,[npermutations,ntrials])\n",
    "\t#get mean accuracy for each random run\n",
    "\tpercent_correct = np.nansum(random_resps==expected,1)/ntrials\n",
    "\t#find the point on the distribution of accuracies where anything less would be statistically significant\n",
    "\tcutoff = np.quantile(percent_correct,1-p_cutoff)\n",
    "\treturn cutoff"
   ]
  },
  {
   "cell_type": "code",
   "execution_count": 8,
   "id": "f1bd1e02-a762-4114-818d-fdb59daccced",
   "metadata": {},
   "outputs": [],
   "source": [
    "############# DRIVER ##############"
   ]
  },
  {
   "cell_type": "code",
   "execution_count": 9,
   "id": "0c607a75-ed7f-45a7-bc20-d59f5bd8565e",
   "metadata": {},
   "outputs": [
    {
     "name": "stdout",
     "output_type": "stream",
     "text": [
      "acc cutoff =  0.38333333333333336\n"
     ]
    }
   ],
   "source": [
    "#set constants\n",
    "exclusion = 1 #1 = exclude subjects below chance perfomance on the association task 0 = no exclusion\n",
    "printSubj = 0 #toggle whether to print individual subject's behavioral performance\n",
    "show_plot = 0 #toggle whether to show plots or just save as pdfs\n",
    "save_plot = 1 #toggle whether to save plots (useful if you're fucking around)\n",
    "nsubj = 52\n",
    "nRuns_nback = 20\n",
    "nRuns_ST = 3\n",
    "figure_dir = \"../figures/\"\n",
    "#preallocate data frames\n",
    "meanRT_nback = np.zeros((nsubj,nRuns_nback))\n",
    "meanAcc_nback = np.zeros((nsubj,nRuns_nback))\n",
    "meanAcc_learned = np.zeros((nsubj,nRuns_ST))\n",
    "meanAcc_novel = np.zeros((nsubj,nRuns_ST))\n",
    "meanRT_learned = np.zeros((nsubj,nRuns_ST))\n",
    "meanRT_novel = np.zeros((nsubj,nRuns_ST))\n",
    "histData_learned = np.zeros((nsubj,3,nRuns_ST))\n",
    "histData_novel = np.zeros((nsubj,3,nRuns_ST))\n",
    "rtData_learned = np.zeros((nsubj,3,nRuns_ST))\n",
    "rtData_novel = np.zeros((nsubj,3,nRuns_ST))\n",
    "category_learned = np.zeros(nsubj)\n",
    "#determine what \"chance\" performance cutoff is\n",
    "cutoff = binomial_cutoff(240,10000,0.05,3)\n",
    "print(\"acc cutoff = \",cutoff)"
   ]
  },
  {
   "cell_type": "code",
   "execution_count": 10,
   "id": "617b1119-8872-44a8-a2a9-eff7be95337a",
   "metadata": {},
   "outputs": [
    {
     "name": "stderr",
     "output_type": "stream",
     "text": [
      "/var/folders/9d/64h6bpdx6wld4v9tw1jq1yqr0000gp/T/ipykernel_1602/1878417319.py:46: RuntimeWarning: Mean of empty slice\n",
      "  learned_rt_resps[1,i] = np.nanmean(testData.rt[np.logical_and(np.logical_and(testData.cat_cue==learned_cat,testData.run==(i+1)),testData.score==2)])\n",
      "/var/folders/9d/64h6bpdx6wld4v9tw1jq1yqr0000gp/T/ipykernel_1602/1878417319.py:50: RuntimeWarning: Mean of empty slice\n",
      "  novel_rt_resps[2,i] = np.nanmean(testData.rt[np.logical_and(np.logical_and(testData.cat_cue==novel_cat,testData.run==(i+1)),testData.score==3)])\n",
      "/var/folders/9d/64h6bpdx6wld4v9tw1jq1yqr0000gp/T/ipykernel_1602/1878417319.py:47: RuntimeWarning: Mean of empty slice\n",
      "  learned_rt_resps[2,i] = np.nanmean(testData.rt[np.logical_and(np.logical_and(testData.cat_cue==learned_cat,testData.run==(i+1)),testData.score==3)])\n",
      "/var/folders/9d/64h6bpdx6wld4v9tw1jq1yqr0000gp/T/ipykernel_1602/1878417319.py:49: RuntimeWarning: Mean of empty slice\n",
      "  novel_rt_resps[1,i] = np.nanmean(testData.rt[np.logical_and(np.logical_and(testData.cat_cue==novel_cat,testData.run==(i+1)),testData.score==2)])\n"
     ]
    }
   ],
   "source": [
    "#load data by subject\n",
    "for sn in range(nsubj):\n",
    "\tsubjID = sn+1\n",
    "\tif subjID>40:\n",
    "\t\tsubjID = subjID-40\n",
    "\t\t[header,nbackData,testData] = loadData(subjID,robertData=1)\n",
    "\telse:\n",
    "\t\t[header,nbackData,testData] = loadData(subjID)\n",
    "\n",
    "\t#nback analysis\n",
    "\t[meanRT_nback[sn], meanAcc_nback[sn]] = nbackSummary(nbackData,subjID,printSubj)\n",
    "\n",
    "\t#testData analysis\n",
    "\t[meanAcc_learned[sn], meanAcc_novel[sn],histData_learned[sn],histData_novel[sn],\n",
    "\tmeanRT_learned[sn],meanRT_novel[sn],rtData_learned[sn],rtData_novel[sn],category_learned[sn]] = studytestSummary(testData,subjID,printSubj)\n",
    "\n",
    "\t#apriori below chance exclusion criteria\n",
    "\tif exclusion:\n",
    "\t\tif np.nansum(testData.score==1)/240 < cutoff: \n",
    "\t\t\t meanAcc_learned[sn,:] = np.nan\n",
    "\t\t\t meanAcc_novel[sn,:] = np.nan\n",
    "\t\t\t histData_learned[sn,:,:] = np.nan\n",
    "\t\t\t histData_novel[sn,:,:] = np.nan\n",
    "\t\t\t meanAcc_nback[sn,:] = np.nan\n",
    "\t\t\t meanRT_nback[sn,:] = np.nan\n",
    "\t\t\t meanRT_learned[sn,:] = np.nan\n",
    "\t\t\t meanRT_novel[sn,:] = np.nan\n",
    "\t\t\t rtData_learned[sn,:] = np.nan\n",
    "\t\t\t rtData_novel[sn,:] = np.nan"
   ]
  },
  {
   "cell_type": "code",
   "execution_count": 11,
   "id": "d5fd1d0e-d51d-49ce-8079-57719f83a451",
   "metadata": {},
   "outputs": [
    {
     "name": "stdout",
     "output_type": "stream",
     "text": [
      "nsubj after exclusion =  40\n",
      "20\n"
     ]
    }
   ],
   "source": [
    "#recalculate sample size after exclusion\n",
    "nsubj = nsubj-np.sum(np.isnan(np.mean(meanAcc_learned,1)))\n",
    "print('nsubj after exclusion = ',nsubj)\n",
    "#because of the error when originally running this the stimuli arent balanced so I'm just excluding all of roberts data for this single analysis since thats the most principled way I can balance this\n",
    "category_learned[40:52] = np.nan \n",
    "print(np.nansum(category_learned==1))"
   ]
  },
  {
   "cell_type": "code",
   "execution_count": 12,
   "id": "d9d22ddc-3eca-40ac-8f9c-13c96c17efbe",
   "metadata": {},
   "outputs": [
    {
     "name": "stdout",
     "output_type": "stream",
     "text": [
      "Familiar accuracy = 0.640625  Unfamiliar accuracy = 0.6239583333333333\n",
      "Familiar vs unfamiliar acc ttest:  [1.491775 0.143804]\n"
     ]
    },
    {
     "name": "stderr",
     "output_type": "stream",
     "text": [
      "/var/folders/9d/64h6bpdx6wld4v9tw1jq1yqr0000gp/T/ipykernel_1602/4155603.py:5: RuntimeWarning: Mean of empty slice\n",
      "  print(\"Familiar vs unfamiliar acc ttest: \",np.round(stats.ttest_rel(np.nanmean(meanAcc_learned,1),np.nanmean(meanAcc_novel,1),nan_policy='omit'),6))\n"
     ]
    },
    {
     "data": {
      "image/png": "[encoded data removed]",
      "text/plain": [
       "<Figure size 432x288 with 1 Axes>"
      ]
     },
     "metadata": {
      "needs_background": "light"
     },
     "output_type": "display_data"
    }
   ],
   "source": [
    "#print the basics\n",
    "print(\"Familiar accuracy = \"+str(np.nanmean(meanAcc_learned)),\" Unfamiliar accuracy = \"+str(np.nanmean(meanAcc_novel)))\n",
    "\n",
    "#ttest of mean accuracy distributions between familiar and unfamiliar stimuli\n",
    "print(\"Familiar vs unfamiliar acc ttest: \",np.round(stats.ttest_rel(np.nanmean(meanAcc_learned,1),np.nanmean(meanAcc_novel,1),nan_policy='omit'),6))\n",
    "#plot difference between familiar and unfamiliar accuracy means\n",
    "fig = plt.figure()\n",
    "plt.bar([0,1],[np.nanmean(meanAcc_learned),np.nanmean(meanAcc_novel)],color=['blue','m'])\n",
    "#error term is SEM\n",
    "plt.errorbar([0,1],[np.nanmean(meanAcc_learned),np.nanmean(meanAcc_novel)],yerr=[np.nanstd(meanAcc_learned)/np.sqrt(nsubj),np.nanstd(meanAcc_novel)/np.sqrt(nsubj)],color='k')\n",
    "plt.xlabel(\"stimulus condition\")\n",
    "plt.xticks([0,1],[\"familiar\",\"unfamiliar\"])\n",
    "plt.ylabel(\"mean accuracy (%)\")\n",
    "plt.yticks([0,.2,.4,.6,.8],[0,20,40,60,80])\n",
    "plt.title(\"Mean accuracy by condition\")\n",
    "#plt.scatter([0.5],[.8],marker='*',color='k')\n",
    "if save_plot:\n",
    "\tplt.savefig(figure_dir+'acc_diff_familiar_vs_nonfamiliar.pdf',format='pdf')\n",
    "if show_plot:\n",
    "\tplt.show()"
   ]
  },
  {
   "cell_type": "code",
   "execution_count": 13,
   "id": "bddea07b-9d79-4378-9d8f-03dc1de3c6da",
   "metadata": {},
   "outputs": [],
   "source": [
    "####### Plot distribution of responses by condition #######"
   ]
  },
  {
   "cell_type": "code",
   "execution_count": 14,
   "id": "4eec0d43-1aaa-4fdb-8cb5-d84048a9aefb",
   "metadata": {},
   "outputs": [
    {
     "name": "stdout",
     "output_type": "stream",
     "text": [
      "Familiar vs unfamiliar target resps ttest:  [1.491775 0.143804]\n",
      "Familiar vs unfamiliar competitor resps ttest:  [-1.036032  0.306569]\n",
      "Familiar vs unfamiliar noncompetitor resps ttest:  [-0.681025  0.499879]\n",
      "Familiar anova:  F_onewayResult(statistic=56.19551909682936, pvalue=5.030325331024614e-19)\n",
      "Unfamiliar anova:  F_onewayResult(statistic=54.457124011501655, pvalue=1.3794991371018553e-18)\n"
     ]
    },
    {
     "data": {
      "image/png": "[encoded data removed]",
      "text/plain": [
       "<Figure size 432x288 with 1 Axes>"
      ]
     },
     "metadata": {
      "needs_background": "light"
     },
     "output_type": "display_data"
    }
   ],
   "source": [
    "#plot histograms of responses for each condition\n",
    "#ttest between familiar and unfamiliar target #dunno why I did this but it looks pretty I guess\n",
    "print(\"Familiar vs unfamiliar target resps ttest: \",np.round(stats.ttest_rel(np.sum(histData_learned,2)[:,0],np.sum(histData_novel,2)[:,0],nan_policy='omit'),6))\n",
    "#ttest between familiar and unfamiliar competitor\n",
    "print(\"Familiar vs unfamiliar competitor resps ttest: \",np.round(stats.ttest_rel(np.sum(histData_learned,2)[:,1],np.sum(histData_novel,2)[:,1],nan_policy='omit'),6))\n",
    "#ttest between familiar and unfamiliar noncompetitor\n",
    "print(\"Familiar vs unfamiliar noncompetitor resps ttest: \",np.round(stats.ttest_rel(np.sum(histData_learned,2)[:,2],np.sum(histData_novel,2)[:,2],nan_policy = 'omit'),6))\n",
    "#anova between familiar responses \n",
    "print(\"Familiar anova: \",stats.f_oneway(np.nansum(histData_learned,2)[:,0],np.nansum(histData_learned,2)[:,1],np.nansum(histData_learned,2)[:,2],axis=0))\n",
    "#anova between unfamiliar responses \n",
    "print(\"Unfamiliar anova: \",stats.f_oneway(np.nansum(histData_novel,2)[:,0],np.nansum(histData_novel,2)[:,1],np.nansum(histData_novel,2)[:,2],axis=0))\n",
    "#plot\n",
    "fig = plt.figure()\n",
    "#collapse across subjects\n",
    "histAllsubj_learned = np.nansum(histData_learned,0)\n",
    "histAllsubj_novel = np.nansum(histData_novel,0)\n",
    "c1 = plt.bar([0,1.5,3],[np.nansum(histAllsubj_learned[0]),np.nansum(histAllsubj_learned[1]),np.nansum(histAllsubj_learned[2])],width=.5,color='b')\n",
    "c2 = plt.bar([.5,2,3.5],[np.nansum(histAllsubj_novel[0]),np.nansum(histAllsubj_novel[1]),np.nansum(histAllsubj_novel[2])],width=.5,color='m')\n",
    "#compute error term (will be len(3) array)\n",
    "learned_hist_err = np.std(np.nansum(histData_learned,2),0)\n",
    "novel_hist_err = np.std(np.nansum(histData_novel,2),0)\n",
    "#plot\n",
    "plt.errorbar([0,.5],[np.nansum(histAllsubj_learned[0]),np.nansum(histAllsubj_novel[0])],yerr=[learned_hist_err[0],novel_hist_err[0]],color='k')\n",
    "plt.errorbar([1.5,2],[np.nansum(histAllsubj_learned[1]),np.nansum(histAllsubj_novel[1])],yerr=[learned_hist_err[1],novel_hist_err[1]],color='k')\n",
    "plt.errorbar([3,3.5],[np.nansum(histAllsubj_learned[2]),np.nansum(histAllsubj_novel[2])],yerr=[learned_hist_err[2],novel_hist_err[2]],color='k')\n",
    "plt.legend([c1,c2],['familiar','unfamiliar'])\n",
    "plt.xticks([.25,1.75,3.25],['target','competitor','noncompetitor'])\n",
    "plt.ylabel('# of responses')\n",
    "plt.title(\"Histogram of responses by condition\")\n",
    "plt.savefig(figure_dir+'response_histograms.pdf',format='pdf')\n",
    "plt.show()"
   ]
  },
  {
   "cell_type": "code",
   "execution_count": 15,
   "id": "3858faa2-85ea-433f-836c-15329fd1bd1d",
   "metadata": {},
   "outputs": [
    {
     "data": {
      "image/png": "[encoded data removed]",
      "text/plain": [
       "<Figure size 432x288 with 1 Axes>"
      ]
     },
     "metadata": {
      "needs_background": "light"
     },
     "output_type": "display_data"
    }
   ],
   "source": [
    "#plot histogrm but as a mean\n",
    "totTrials = (240*nsubj)/2\n",
    "fig = plt.figure()\n",
    "#collapse across subjects\n",
    "histAllsubj_learned = np.nansum(histData_learned,0)\n",
    "histAllsubj_novel = np.nansum(histData_novel,0)\n",
    "c1 = plt.bar([0,1.5,3],[np.nansum(histAllsubj_learned[0])/totTrials,np.nansum(histAllsubj_learned[1])/totTrials,np.nansum(histAllsubj_learned[2])/totTrials],width=.5,color='b')\n",
    "c2 = plt.bar([.5,2,3.5],[np.nansum(histAllsubj_novel[0])/totTrials,np.nansum(histAllsubj_novel[1])/totTrials,np.nansum(histAllsubj_novel[2])/totTrials],width=.5,color='m')\n",
    "#compute error term (will be len(3) array)\n",
    "learned_hist_err = np.std(np.nansum(histData_learned,2)/totTrials,0)\n",
    "novel_hist_err = np.std(np.nansum(histData_novel,2)/totTrials,0)\n",
    "#plot\n",
    "plt.errorbar([0,.5],[np.nansum(histAllsubj_learned[0])/totTrials,np.nansum(histAllsubj_novel[0])/totTrials],yerr=[learned_hist_err[0],novel_hist_err[0]],color='k')\n",
    "plt.errorbar([1.5,2],[np.nansum(histAllsubj_learned[1])/totTrials,np.nansum(histAllsubj_novel[1])/totTrials],yerr=[learned_hist_err[1],novel_hist_err[1]],color='k')\n",
    "plt.errorbar([3,3.5],[np.nansum(histAllsubj_learned[2])/totTrials,np.nansum(histAllsubj_novel[2])/totTrials],yerr=[learned_hist_err[2],novel_hist_err[2]],color='k')\n",
    "plt.legend([c1,c2],['familiar','unfamiliar'])\n",
    "plt.xticks([.25,1.75,3.25],['target','competitor','noncompetitor'])\n",
    "plt.ylabel('# of responses')\n",
    "plt.title(\"Mean responses by condition\")\n",
    "plt.savefig(figure_dir+'response_means.pdf',format='pdf')\n",
    "plt.show()"
   ]
  },
  {
   "cell_type": "code",
   "execution_count": 16,
   "id": "23339236-2b20-46c7-8099-cf9f42d0058c",
   "metadata": {},
   "outputs": [],
   "source": [
    "###### nback performance over blocks #######"
   ]
  },
  {
   "cell_type": "code",
   "execution_count": 17,
   "id": "bd51ee2a-b6ab-4b80-b0f2-6271c7fce3a4",
   "metadata": {},
   "outputs": [
    {
     "name": "stdout",
     "output_type": "stream",
     "text": [
      "nback block acc ttest:  Ttest_relResult(statistic=-9.028955274677731, pvalue=4.251569221169325e-11)\n"
     ]
    },
    {
     "data": {
      "image/png": "[encoded data removed]",
      "text/plain": [
       "<Figure size 432x288 with 1 Axes>"
      ]
     },
     "metadata": {
      "needs_background": "light"
     },
     "output_type": "display_data"
    }
   ],
   "source": [
    "#plot nback acc as a function of blocks\n",
    "#ttest between blocks 1 and 20\n",
    "print(\"nback block acc ttest: \",stats.ttest_rel(meanAcc_nback[:,0],meanAcc_nback[:,19],nan_policy='omit'))\n",
    "#plot\n",
    "fig = plt.figure()\n",
    "plt.plot(np.arange(0,20),np.nanmean(meanAcc_nback,0),color='m',linewidth=3)\n",
    "#error is sem\n",
    "plt.errorbar(np.arange(0,20),np.nanmean(meanAcc_nback,0),yerr=np.nanstd(meanAcc_nback,0)/np.sqrt(nsubj),color='k',capsize=3)\n",
    "plt.yticks([0.5,0.6,0.7,0.8,0.9,1],[50,60,70,80,90,100])\n",
    "#plt.scatter([0.5,2.5,9.5],[1,1,1],marker='*',color='k')\n",
    "plt.ylabel('accuracy (%)')\n",
    "plt.xlabel('block number')\n",
    "plt.xticks([0,5,10,15,20])\n",
    "plt.title('nback mean accuracy by block')\n",
    "plt.savefig(figure_dir+'nback_acc_blockwise.pdf',format='pdf')\n",
    "plt.show()"
   ]
  },
  {
   "cell_type": "code",
   "execution_count": 18,
   "id": "b25d26c3-2e31-472f-94fe-53a6cc9f2ac7",
   "metadata": {},
   "outputs": [
    {
     "name": "stdout",
     "output_type": "stream",
     "text": [
      "nback block rt ttest:  Ttest_relResult(statistic=6.820810826695942, pvalue=3.7795681178634064e-08)\n"
     ]
    },
    {
     "data": {
      "image/png": "[encoded data removed]",
      "text/plain": [
       "<Figure size 432x288 with 1 Axes>"
      ]
     },
     "metadata": {
      "needs_background": "light"
     },
     "output_type": "display_data"
    }
   ],
   "source": [
    "#RTs, cause why not\n",
    "#ttest between blocks 1 and 20\n",
    "print(\"nback block rt ttest: \",stats.ttest_rel(meanRT_nback[:,0],meanRT_nback[:,19],nan_policy='omit'))\n",
    "fig = plt.figure()\n",
    "plt.plot(np.arange(0,20),np.nanmean(meanRT_nback,0),color='m',linewidth=3)\n",
    "#error is std\n",
    "plt.errorbar(np.arange(0,20),np.nanmean(meanRT_nback,0),yerr=np.nanstd(meanRT_nback,0)/np.sqrt(nsubj),color='k',capsize=3)\n",
    "plt.yticks([0.5,0.6,0.7,0.8],[500,600,700,800])\n",
    "#plt.scatter([0.5,2.5,9.5],[1,1,1],marker='*',color='k')\n",
    "plt.ylabel('RT (ms)')\n",
    "plt.xlabel('block number')\n",
    "plt.xticks([0,5,10,15,20])\n",
    "plt.title('nback mean response time by block')\n",
    "plt.savefig(figure_dir+'nback_rt_blockwise.pdf',format='pdf')\n",
    "plt.show()"
   ]
  },
  {
   "cell_type": "code",
   "execution_count": 19,
   "id": "2ffaebc4-76e3-415d-94b5-840007085dd2",
   "metadata": {},
   "outputs": [],
   "source": [
    "###### correlations between nback performance and association acc ########"
   ]
  },
  {
   "cell_type": "code",
   "execution_count": 20,
   "id": "2beb5c99-8266-4876-9219-562e28421d97",
   "metadata": {},
   "outputs": [
    {
     "name": "stdout",
     "output_type": "stream",
     "text": [
      "Pearson r of across subject correlation of nback and familiar acc:  0.6009 4e-05\n"
     ]
    },
    {
     "data": {
      "image/png": "[encoded data removed]",
      "text/plain": [
       "<Figure size 432x288 with 1 Axes>"
      ]
     },
     "metadata": {
      "needs_background": "light"
     },
     "output_type": "display_data"
    }
   ],
   "source": [
    "#across subject correlation of nback acc and learned acc\n",
    "#remove nans from data\n",
    "clean_meanAcc_nback = meanAcc_nback[~np.isnan(meanAcc_nback[:,1])]\n",
    "clean_meanAcc_novel = meanAcc_novel[~np.isnan(meanAcc_novel[:,1])]\n",
    "clean_meanAcc_learned = meanAcc_learned[~np.isnan(meanAcc_learned[:,1])]\n",
    "[r,p] = stats.pearsonr(np.nanmean(clean_meanAcc_nback,1),np.nanmean(clean_meanAcc_learned,1))\n",
    "print(\"Pearson r of across subject correlation of nback and familiar acc: \",np.round(r,5),np.round(p,5))\n",
    "[m,b] = np.polyfit(np.nanmean(clean_meanAcc_nback,1),np.nanmean(clean_meanAcc_learned,1),1)\n",
    "fig = plt.figure()\n",
    "plt.scatter(np.nanmean(clean_meanAcc_nback,1),np.nanmean(clean_meanAcc_learned,1),color='gray')\n",
    "plt.plot(np.nanmean(clean_meanAcc_nback,1),m*np.nanmean(clean_meanAcc_nback,1)+b,color='m')\n",
    "plt.xlabel('mean nback accuracy (%)')\n",
    "plt.ylabel('mean learned stimulus accuracy (%)')\n",
    "plt.yticks([.2,.3,.4,.5,.6,.7,.8,.9],[20,30,40,50,60,70,80,90])\n",
    "plt.xticks([.65,.7,.75,.8,.85,.9,.95],[65,70,75,80,85,90,95])\n",
    "plt.title('nback and learned stimulus accuracy correlation\\nr = '+str(np.round(r,2)))\n",
    "plt.savefig(figure_dir+'famAcc_correlation.pdf',format='pdf')\n",
    "plt.show()"
   ]
  },
  {
   "cell_type": "code",
   "execution_count": 21,
   "id": "4c7f92c9-cb50-451e-b4b8-3cc10085856e",
   "metadata": {},
   "outputs": [
    {
     "name": "stdout",
     "output_type": "stream",
     "text": [
      "Pearson r of across subject correlation of nback and unfamiliar acc:  0.5512 0.00023\n"
     ]
    },
    {
     "data": {
      "image/png": "[encoded data removed]",
      "text/plain": [
       "<Figure size 432x288 with 1 Axes>"
      ]
     },
     "metadata": {
      "needs_background": "light"
     },
     "output_type": "display_data"
    }
   ],
   "source": [
    "#across subject correlation of nback and novel acc\n",
    "[r,p] = stats.pearsonr(np.nanmean(clean_meanAcc_nback,1),np.nanmean(clean_meanAcc_novel,1))\n",
    "print(\"Pearson r of across subject correlation of nback and unfamiliar acc: \",np.round(r,5),np.round(p,5))\n",
    "[m,b] = np.polyfit(np.nanmean(clean_meanAcc_nback,1),np.nanmean(clean_meanAcc_novel,1),1)\n",
    "fig = plt.figure()\n",
    "plt.scatter(np.nanmean(clean_meanAcc_nback,1),np.nanmean(clean_meanAcc_novel,1),color='gray')\n",
    "plt.plot(np.nanmean(clean_meanAcc_nback,1),m*np.nanmean(clean_meanAcc_nback,1)+b,color='m')\n",
    "plt.xlabel('mean nback accuracy (%)')\n",
    "plt.ylabel('mean novel stimulus accuracy (%)')\n",
    "plt.yticks([.2,.3,.4,.5,.6,.7,.8,.9],[20,30,40,50,60,70,80,90])\n",
    "plt.xticks([.65,.7,.75,.8,.85,.9,.95],[65,70,75,80,85,90,95])\n",
    "plt.title('nback and novel stimulus accuracy correlation\\nr = '+str(np.round(r,2)))\n",
    "plt.savefig(figure_dir+'unfamAcc_correlation.pdf',format='pdf')\n",
    "plt.show()"
   ]
  },
  {
   "cell_type": "code",
   "execution_count": 22,
   "id": "5bf0393b-2560-4001-8264-4888264dd247",
   "metadata": {},
   "outputs": [],
   "source": [
    "###### Look at response times for the association task #######"
   ]
  },
  {
   "cell_type": "code",
   "execution_count": 23,
   "id": "646d3e19-7c20-4d26-bc36-99e5e52fa0b7",
   "metadata": {},
   "outputs": [
    {
     "name": "stdout",
     "output_type": "stream",
     "text": [
      "Familiar rts = 1.5003522597612973  Unfamiliar rts = 1.5376624490534931\n",
      "Familiar vs unfamiliar rt ttest:  [-2.264372  0.029188]\n"
     ]
    },
    {
     "name": "stderr",
     "output_type": "stream",
     "text": [
      "/var/folders/9d/64h6bpdx6wld4v9tw1jq1yqr0000gp/T/ipykernel_1602/553252012.py:4: RuntimeWarning: Mean of empty slice\n",
      "  print(\"Familiar vs unfamiliar rt ttest: \",np.round(stats.ttest_rel(np.nanmean(meanRT_learned,1),np.nanmean(meanRT_novel,1),nan_policy='omit'),6))\n"
     ]
    },
    {
     "data": {
      "image/png": "[encoded data removed]",
      "text/plain": [
       "<Figure size 432x288 with 1 Axes>"
      ]
     },
     "metadata": {
      "needs_background": "light"
     },
     "output_type": "display_data"
    }
   ],
   "source": [
    "#plot rts for study test\n",
    "print(\"Familiar rts = \"+str(np.nanmean(meanRT_learned)),\" Unfamiliar rts = \"+str(np.nanmean(meanRT_novel)))\n",
    "#ttest of mean accuracy distributions between familiar and unfamiliar stimuli\n",
    "print(\"Familiar vs unfamiliar rt ttest: \",np.round(stats.ttest_rel(np.nanmean(meanRT_learned,1),np.nanmean(meanRT_novel,1),nan_policy='omit'),6))\n",
    "#plot difference between familiar and unfamiliar accuracy means\n",
    "fig = plt.figure()\n",
    "plt.bar([0,1],[np.nanmean(meanRT_learned),np.nanmean(meanRT_novel)],color=['blue','m'])\n",
    "#error term is SEM\n",
    "plt.errorbar([0,1],[np.nanmean(meanRT_learned),np.nanmean(meanRT_novel)],yerr=[np.nanstd(meanRT_learned)/np.sqrt(nsubj),np.nanstd(meanRT_novel)/np.sqrt(nsubj)],color='k')\n",
    "plt.xlabel(\"stimulus condition\")\n",
    "plt.xticks([0,1],[\"familiar\",\"unfamiliar\"])\n",
    "plt.ylabel(\"mean RTs (ms)\")\n",
    "plt.yticks([0,.3,.6,.9,1.2,1.5],[0,300,600,900,1200,1500])\n",
    "plt.title(\"Mean RT by condition\")\n",
    "plt.scatter([0.5],[1.5],marker='*',color='k')\n",
    "plt.savefig(figure_dir+'rt_diff_familiar_vs_nonfamiliar.pdf',format='pdf')\n",
    "plt.show()"
   ]
  },
  {
   "cell_type": "code",
   "execution_count": 31,
   "id": "2fbeda08-d239-4ca7-966b-0e80cdda45f5",
   "metadata": {},
   "outputs": [
    {
     "name": "stdout",
     "output_type": "stream",
     "text": [
      "Familiar vs unfamiliar target rt ttest:  [-1.354048  0.183516]\n",
      "Familiar vs unfamiliar competitor rt ttest:  [-1.942543  0.06219 ]\n",
      "Familiar vs unfamiliar noncompetitor rt ttest:  [1.262341 0.218032]\n",
      "Familiar anova:  F_onewayResult(statistic=nan, pvalue=nan)\n",
      "Unfamiliar anova:  F_onewayResult(statistic=nan, pvalue=nan)\n"
     ]
    },
    {
     "name": "stderr",
     "output_type": "stream",
     "text": [
      "/var/folders/9d/64h6bpdx6wld4v9tw1jq1yqr0000gp/T/ipykernel_1602/1245808779.py:8: RuntimeWarning: Mean of empty slice\n",
      "  print(\"Familiar anova: \",stats.f_oneway(np.nansum(histData_learned,2)[:,0],np.nanmean(rtData_learned,2)[:,1],np.nanmean(rtData_learned,2)[:,2],axis=0))\n",
      "/var/folders/9d/64h6bpdx6wld4v9tw1jq1yqr0000gp/T/ipykernel_1602/1245808779.py:10: RuntimeWarning: Mean of empty slice\n",
      "  print(\"Unfamiliar anova: \",stats.f_oneway(np.nansum(histData_novel,2)[:,0],np.nanmean(rtData_novel,2)[:,1],np.nanmean(rtData_novel,2)[:,2],axis=0))\n",
      "/var/folders/9d/64h6bpdx6wld4v9tw1jq1yqr0000gp/T/ipykernel_1602/1245808779.py:13: RuntimeWarning: Mean of empty slice\n",
      "  rtData_learned_blockmean = np.nanmean(rtData_learned,2)\n",
      "/var/folders/9d/64h6bpdx6wld4v9tw1jq1yqr0000gp/T/ipykernel_1602/1245808779.py:14: RuntimeWarning: Mean of empty slice\n",
      "  rtData_novel_blockmean = np.nanmean(rtData_novel,2)\n"
     ]
    },
    {
     "data": {
      "image/png": "[encoded data removed]",
      "text/plain": [
       "<Figure size 432x288 with 1 Axes>"
      ]
     },
     "metadata": {
      "needs_background": "light"
     },
     "output_type": "display_data"
    }
   ],
   "source": [
    "#plot mean respone times split by responses\n",
    "print(\"Familiar vs unfamiliar target rt ttest: \",np.round(stats.ttest_rel(np.mean(rtData_learned,2)[:,0],np.mean(rtData_novel,2)[:,0],nan_policy='omit'),6))\n",
    "#ttest between familiar and unfamiliar competitor\n",
    "print(\"Familiar vs unfamiliar competitor rt ttest: \",np.round(stats.ttest_rel(np.mean(rtData_learned,2)[:,1],np.mean(rtData_novel,2)[:,1],nan_policy='omit'),6))\n",
    "#ttest between familiar and unfamiliar noncompetitor\n",
    "print(\"Familiar vs unfamiliar noncompetitor rt ttest: \",np.round(stats.ttest_rel(np.mean(rtData_learned,2)[:,2],np.mean(rtData_novel,2)[:,2],nan_policy = 'omit'),6))\n",
    "#anova between familiar responses \n",
    "print(\"Familiar anova: \",stats.f_oneway(np.nansum(histData_learned,2)[:,0],np.nanmean(rtData_learned,2)[:,1],np.nanmean(rtData_learned,2)[:,2],axis=0))\n",
    "#anova between unfamiliar responses \n",
    "print(\"Unfamiliar anova: \",stats.f_oneway(np.nansum(histData_novel,2)[:,0],np.nanmean(rtData_novel,2)[:,1],np.nanmean(rtData_novel,2)[:,2],axis=0))\n",
    "fig = plt.figure()\n",
    "#collapse across subjects\n",
    "rtData_learned_blockmean = np.nanmean(rtData_learned,2)\n",
    "rtData_novel_blockmean = np.nanmean(rtData_novel,2)\n",
    "c1 = plt.bar([0,1.5,3],[np.nanmean(rtData_learned_blockmean[:,0]),np.nanmean(rtData_learned_blockmean[:,1]),np.nanmean(rtData_learned_blockmean[:,2])],width=.5,color='b')\n",
    "c2 = plt.bar([.5,2,3.5],[np.nanmean(rtData_novel_blockmean[:,0]),np.nanmean(rtData_novel_blockmean[:,1]),np.nanmean(rtData_novel_blockmean[:,2])],width=.5,color='m')\n",
    "#compute error term (will be len(3) array)\n",
    "learned_rt_err = np.nanstd(rtData_learned_blockmean,0)/np.sqrt(nsubj)\n",
    "novel_rt_err = np.nanstd(rtData_novel_blockmean,0)/np.sqrt(nsubj)\n",
    "#plot\n",
    "plt.errorbar([0,.5],[np.nanmean(rtData_learned_blockmean[:,0]),np.nanmean(rtData_novel_blockmean[:,0])],yerr=[learned_rt_err[0],novel_rt_err[0]],color='k')\n",
    "plt.errorbar([1.5,2],[np.nanmean(rtData_learned_blockmean[:,1]),np.nanmean(rtData_novel_blockmean[:,1])],yerr=[learned_rt_err[1],novel_rt_err[1]],color='k')\n",
    "plt.errorbar([3,3.5],[np.nanmean(rtData_learned_blockmean[:,2]),np.nanmean(rtData_novel_blockmean[:,2])],yerr=[learned_rt_err[2],novel_rt_err[2]],color='k')\n",
    "plt.legend([c1,c2],['familiar','unfamiliar'])\n",
    "plt.xticks([.25,1.75,3.25],['target','competitor','noncompetitor'])\n",
    "plt.ylabel('mean rt (s)')\n",
    "plt.title(\"Mean response times by condition\")\n",
    "plt.savefig(figure_dir+'responsetime_means.pdf',format='pdf')\n",
    "plt.show()"
   ]
  },
  {
   "cell_type": "code",
   "execution_count": 25,
   "id": "13ddc900-9042-4e4c-a0a8-f320c4d490d1",
   "metadata": {},
   "outputs": [],
   "source": [
    "######## Look at blockwise performance on the association task ########"
   ]
  },
  {
   "cell_type": "code",
   "execution_count": 26,
   "id": "eb46a30a-8917-407a-b73d-b5004e206935",
   "metadata": {},
   "outputs": [
    {
     "name": "stdout",
     "output_type": "stream",
     "text": [
      "Familiar vs unfamiliar block 1 acc ttest:  [1.943912 0.059146]\n",
      "Familiar vs unfamiliar block 2 acc ttest:  [0.587596 0.560191]\n",
      "Familiar vs unfamiliar block 3 acc ttest:  [0.472678 0.639078]\n"
     ]
    },
    {
     "data": {
      "image/png": "[encoded data removed]",
      "text/plain": [
       "<Figure size 432x288 with 1 Axes>"
      ]
     },
     "metadata": {
      "needs_background": "light"
     },
     "output_type": "display_data"
    }
   ],
   "source": [
    "#ttests between condition means per block\n",
    "print(\"Familiar vs unfamiliar block 1 acc ttest: \",np.round(stats.ttest_rel(meanAcc_learned[:,0],meanAcc_novel[:,0],nan_policy='omit'),6))\n",
    "print(\"Familiar vs unfamiliar block 2 acc ttest: \",np.round(stats.ttest_rel(meanAcc_learned[:,1],meanAcc_novel[:,1],nan_policy='omit'),6))\n",
    "print(\"Familiar vs unfamiliar block 3 acc ttest: \",np.round(stats.ttest_rel(meanAcc_learned[:,2],meanAcc_novel[:,2],nan_policy='omit'),6))\n",
    "#plot the mean accuracy by block\n",
    "fig = plt.figure()\n",
    "c1 = plt.bar([0,1.5,3],np.nanmean(meanAcc_learned,0),width=.5,color='b')\n",
    "c2 = plt.bar([.5,2,3.5],np.nanmean(meanAcc_novel,0),width=.5,color='m')\n",
    "plt.errorbar([0,.5],[np.nanmean(meanAcc_learned,0)[0],np.nanmean(meanAcc_novel,0)[0]],yerr=[np.nanstd(meanAcc_learned,0)[0]/np.sqrt(nsubj),np.nanstd(meanAcc_novel,0)[0]/np.sqrt(nsubj)],color='k')\n",
    "plt.errorbar([1.5,2],[np.nanmean(meanAcc_learned,0)[1],np.nanmean(meanAcc_novel,0)[1]],yerr=[np.nanstd(meanAcc_learned,0)[1]/np.sqrt(nsubj),np.nanstd(meanAcc_novel,0)[1]/np.sqrt(nsubj)],color='k')\n",
    "plt.errorbar([3,3.5],[np.nanmean(meanAcc_learned,0)[2],np.nanmean(meanAcc_novel,0)[2]],yerr=[np.nanstd(meanAcc_learned,0)[2]/np.sqrt(nsubj),np.nanstd(meanAcc_novel,0)[2]/np.sqrt(nsubj)],color='k')\n",
    "plt.xlabel('block #')\n",
    "plt.xticks([.25,1.75,3.25],[1,2,3])\n",
    "plt.ylabel('accuracy (%)')\n",
    "plt.yticks([.1,.2,.3,.4,.5,.6,.7,.8],[10,20,30,40,50,60,70,80])\n",
    "plt.legend([c1,c2],['familiar','unfamiliar'])\n",
    "plt.savefig(figure_dir+'assoc_acc_by_block.pdf',format='pdf')\n",
    "plt.show()"
   ]
  },
  {
   "cell_type": "code",
   "execution_count": 27,
   "id": "492497e5-9b52-4abb-b84c-c96af3aa5f2b",
   "metadata": {},
   "outputs": [
    {
     "data": {
      "image/png": "[encoded data removed]",
      "text/plain": [
       "<Figure size 432x288 with 1 Axes>"
      ]
     },
     "metadata": {
      "needs_background": "light"
     },
     "output_type": "display_data"
    }
   ],
   "source": [
    "#look at competitor vs noncompetitor\n",
    "blockTrials = (80*nsubj)/2\n",
    "histAllsubj_learned = np.nansum(histData_learned,0)\n",
    "histAllsubj_novel = np.nansum(histData_novel,0)\n",
    "fig = plt.figure()\n",
    "c1 = plt.bar([0,2.5,5],histAllsubj_learned[1]/blockTrials,color='b',width=.5)\n",
    "c2 = plt.bar([1,3.5,6],histAllsubj_learned[2]/blockTrials,color='b',width=.5)\n",
    "c3 = plt.bar([.5,3,5.5],histAllsubj_novel[1]/blockTrials,color='m',width=.5)\n",
    "c4 = plt.bar([1.5,4,6.5],histAllsubj_novel[2]/blockTrials,color='m',width=.5)\n",
    "learned_hist_err = np.nanstd(histData_learned/40,0)/np.sqrt(nsubj)\n",
    "novel_hist_err = np.nanstd(histData_novel/40,0)/np.sqrt(nsubj)\n",
    "plt.errorbar([0,.5],[histAllsubj_learned[1,0]/blockTrials,histAllsubj_novel[1,0]/blockTrials],yerr=[learned_hist_err[1,0],novel_hist_err[1,0]],color='k')\n",
    "plt.errorbar([1,1.5],[histAllsubj_learned[2,0]/blockTrials,histAllsubj_novel[2,0]/blockTrials],yerr=[learned_hist_err[2,0],novel_hist_err[2,0]],color='k')\n",
    "plt.errorbar([2.5,3],[histAllsubj_learned[1,1]/blockTrials,histAllsubj_novel[1,1]/blockTrials],yerr=[learned_hist_err[1,1],novel_hist_err[1,1]],color='k')\n",
    "plt.errorbar([3.5,4],[histAllsubj_learned[2,1]/blockTrials,histAllsubj_novel[2,1]/blockTrials],yerr=[learned_hist_err[2,1],novel_hist_err[2,1]],color='k')\n",
    "plt.errorbar([5,5.5],[histAllsubj_learned[1,2]/blockTrials,histAllsubj_novel[1,2]/blockTrials],yerr=[learned_hist_err[1,2],novel_hist_err[1,2]],color='k')\n",
    "plt.errorbar([6,6.5],[histAllsubj_learned[2,2]/blockTrials,histAllsubj_novel[2,2]/blockTrials],yerr=[learned_hist_err[2,2],novel_hist_err[2,2]],color='k')\n",
    "plt.xticks([.25,1.25,2.75,3.75,5.25,6.25],['comp','noncomp','comp','noncomp','comp','noncomp'])\n",
    "plt.yticks([0,.05,.1,.15,.2,.25,.3],[0,5,10,15,20,25,30])\n",
    "plt.ylabel(\"accuracy (%)\")\n",
    "plt.legend([c1,c3],['familiar','unfamiliar'])\n",
    "plt.savefig(figure_dir+'comp_vs_nocomp_blockwise.pdf',format='pdf')\n",
    "plt.show()"
   ]
  },
  {
   "cell_type": "code",
   "execution_count": 30,
   "id": "5d3500c4-9647-4938-b09d-dea5e2b87f11",
   "metadata": {},
   "outputs": [
    {
     "name": "stdout",
     "output_type": "stream",
     "text": [
      "beachs vs gaxebos ttest:  Ttest_relResult(statistic=-0.8707040018719213, pvalue=0.40099898708793597)\n"
     ]
    },
    {
     "name": "stderr",
     "output_type": "stream",
     "text": [
      "/var/folders/9d/64h6bpdx6wld4v9tw1jq1yqr0000gp/T/ipykernel_1602/3303668206.py:2: RuntimeWarning: Mean of empty slice\n",
      "  print('beachs vs gaxebos ttest: ',stats.ttest_rel(np.nanmean(meanAcc_learned[category_learned==0],1),np.nanmean(meanAcc_learned[category_learned==1],1),nan_policy='omit'))\n",
      "/var/folders/9d/64h6bpdx6wld4v9tw1jq1yqr0000gp/T/ipykernel_1602/3303668206.py:5: RuntimeWarning: Mean of empty slice\n",
      "  plt.errorbar([0,1],[np.nanmean(meanAcc_learned[category_learned==0]),np.nanmean(meanAcc_learned[category_learned==1])],yerr=[np.nanstd(np.nanmean(meanAcc_learned[category_learned==0],1),0)/np.sqrt(nsubj),np.nanstd(np.nanmean(meanAcc_learned[category_learned==1],1),0)/np.sqrt(nsubj)])\n"
     ]
    },
    {
     "data": {
      "image/png": "[encoded data removed]",
      "text/plain": [
       "<Figure size 432x288 with 1 Axes>"
      ]
     },
     "metadata": {
      "needs_background": "light"
     },
     "output_type": "display_data"
    }
   ],
   "source": [
    "####### check that gazebos arent just easier to learn than beaches ######\n",
    "print('beachs vs gaxebos ttest: ',stats.ttest_rel(np.nanmean(meanAcc_learned[category_learned==0],1),np.nanmean(meanAcc_learned[category_learned==1],1),nan_policy='omit'))\n",
    "fig = plt.figure()\n",
    "plt.bar([0,1],[np.nanmean(meanAcc_learned[category_learned==0]),np.nanmean(meanAcc_learned[category_learned==1])],color=['b','g'])\n",
    "plt.errorbar([0,1],[np.nanmean(meanAcc_learned[category_learned==0]),np.nanmean(meanAcc_learned[category_learned==1])],yerr=[np.nanstd(np.nanmean(meanAcc_learned[category_learned==0],1),0)/np.sqrt(nsubj),np.nanstd(np.nanmean(meanAcc_learned[category_learned==1],1),0)/np.sqrt(nsubj)])\n",
    "plt.xticks([0,1],['beaches','gazebos'])\n",
    "plt.show()"
   ]
  },
  {
   "cell_type": "code",
   "execution_count": null,
   "id": "30b9926a-5c4b-477f-bbae-00eb9f41e271",
   "metadata": {},
   "outputs": [],
   "source": []
  }
 ],
 "metadata": {
  "kernelspec": {
   "display_name": "Python 3 (ipykernel)",
   "language": "python",
   "name": "python3"
  },
  "language_info": {
   "codemirror_mode": {
    "name": "ipython",
    "version": 3
   },
   "file_extension": ".py",
   "mimetype": "text/x-python",
   "name": "python",
   "nbconvert_exporter": "python",
   "pygments_lexer": "ipython3",
   "version": "3.9.6"
  }
 },
 "nbformat": 4,
 "nbformat_minor": 5
}
